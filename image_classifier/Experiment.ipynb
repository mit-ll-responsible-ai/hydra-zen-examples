{
 "cells": [
  {
   "cell_type": "markdown",
   "metadata": {},
   "source": [
    "# Image Classification Example"
   ]
  },
  {
   "cell_type": "code",
   "execution_count": 1,
   "metadata": {},
   "outputs": [],
   "source": [
    "import os\n",
    "import sys\n",
    "\n",
    "sys.path.insert(0, \"image_classifier\")"
   ]
  },
  {
   "cell_type": "code",
   "execution_count": 2,
   "metadata": {},
   "outputs": [],
   "source": [
    "import matplotlib.pyplot as plt\n",
    "import torch\n",
    "from hydra.experimental import compose, initialize_config_dir\n",
    "from hydra.utils import instantiate\n",
    "from omegaconf import OmegaConf"
   ]
  },
  {
   "cell_type": "code",
   "execution_count": 3,
   "metadata": {},
   "outputs": [],
   "source": [
    "with initialize_config_dir(os.path.abspath(\"image_classifier/conf\")):\n",
    "    cfg = compose(\"config\")"
   ]
  },
  {
   "cell_type": "markdown",
   "metadata": {},
   "source": [
    "## Dataset"
   ]
  },
  {
   "cell_type": "code",
   "execution_count": 4,
   "metadata": {},
   "outputs": [
    {
     "name": "stdout",
     "output_type": "stream",
     "text": [
      "_target_: pytorch_lightning.core.datamodule.LightningDataModule.from_datasets\n",
      "_recursive_: true\n",
      "_convert_: none\n",
      "num_workers: 4\n",
      "batch_size: 256\n",
      "train_dataset:\n",
      "  _target_: torchvision.datasets.cifar.CIFAR10\n",
      "  _recursive_: true\n",
      "  _convert_: none\n",
      "  root: ${data_path}\n",
      "  train: true\n",
      "  transform:\n",
      "    _target_: torchvision.transforms.transforms.Compose\n",
      "    _recursive_: true\n",
      "    _convert_: none\n",
      "    transforms:\n",
      "    - _target_: torchvision.transforms.transforms.RandomCrop\n",
      "      _recursive_: true\n",
      "      _convert_: none\n",
      "      size: 32\n",
      "      padding: 4\n",
      "    - _target_: torchvision.transforms.transforms.RandomHorizontalFlip\n",
      "      _recursive_: true\n",
      "      _convert_: none\n",
      "    - _target_: torchvision.transforms.transforms.ColorJitter\n",
      "      _recursive_: true\n",
      "      _convert_: none\n",
      "      brightness: 0.25\n",
      "      contrast: 0.25\n",
      "      saturation: 0.25\n",
      "    - _target_: torchvision.transforms.transforms.RandomRotation\n",
      "      _recursive_: true\n",
      "      _convert_: none\n",
      "      degrees: 2\n",
      "    - _target_: torchvision.transforms.transforms.ToTensor\n",
      "      _recursive_: true\n",
      "      _convert_: none\n",
      "  download: true\n",
      "val_dataset:\n",
      "  _target_: torchvision.datasets.cifar.CIFAR10\n",
      "  _recursive_: true\n",
      "  _convert_: none\n",
      "  root: ${data_path}\n",
      "  train: true\n",
      "  transform:\n",
      "    _target_: torchvision.transforms.transforms.ToTensor\n",
      "    _recursive_: true\n",
      "    _convert_: none\n",
      "  download: true\n",
      "test_dataset:\n",
      "  _target_: torchvision.datasets.cifar.CIFAR10\n",
      "  _recursive_: true\n",
      "  _convert_: none\n",
      "  root: ${data_path}\n",
      "  train: true\n",
      "  transform:\n",
      "    _target_: torchvision.transforms.transforms.ToTensor\n",
      "    _recursive_: true\n",
      "    _convert_: none\n",
      "  download: true\n",
      "\n"
     ]
    }
   ],
   "source": [
    "print(OmegaConf.to_yaml(cfg.experiment.lightning_data_module))"
   ]
  },
  {
   "cell_type": "code",
   "execution_count": 5,
   "metadata": {},
   "outputs": [
    {
     "name": "stdout",
     "output_type": "stream",
     "text": [
      "Files already downloaded and verified\n",
      "Files already downloaded and verified\n",
      "Files already downloaded and verified\n"
     ]
    }
   ],
   "source": [
    "data = instantiate(cfg.experiment.lightning_data_module, batch_size=10)"
   ]
  },
  {
   "cell_type": "code",
   "execution_count": 6,
   "metadata": {},
   "outputs": [
    {
     "data": {
      "text/plain": [
       "torch.Size([10, 3, 32, 32])"
      ]
     },
     "execution_count": 6,
     "metadata": {},
     "output_type": "execute_result"
    }
   ],
   "source": [
    "x, y = next(iter(data.test_dataloader()))\n",
    "x.shape"
   ]
  },
  {
   "cell_type": "code",
   "execution_count": 7,
   "metadata": {},
   "outputs": [
    {
     "data": {
      "text/plain": [
       "<matplotlib.image.AxesImage at 0x7fda0b7380d0>"
      ]
     },
     "execution_count": 7,
     "metadata": {},
     "output_type": "execute_result"
    },
    {
     "data": {
      "image/png": "[encoded data removed]",
      "text/plain": [
       "<Figure size 432x288 with 1 Axes>"
      ]
     },
     "metadata": {
      "needs_background": "light"
     },
     "output_type": "display_data"
    }
   ],
   "source": [
    "plt.imshow(x[0].permute(1, 2, 0).numpy())"
   ]
  },
  {
   "cell_type": "markdown",
   "metadata": {},
   "source": [
    "## Model"
   ]
  },
  {
   "cell_type": "code",
   "execution_count": 8,
   "metadata": {},
   "outputs": [],
   "source": [
    "module = instantiate(cfg.experiment.lightning_module)"
   ]
  },
  {
   "cell_type": "markdown",
   "metadata": {},
   "source": [
    "### Test with pre-trained model"
   ]
  },
  {
   "cell_type": "code",
   "execution_count": 9,
   "metadata": {},
   "outputs": [
    {
     "data": {
      "text/plain": [
       "<All keys matched successfully>"
      ]
     },
     "execution_count": 9,
     "metadata": {},
     "output_type": "execute_result"
    }
   ],
   "source": [
    "# Download a version from here\n",
    "from pathlib import Path\n",
    "\n",
    "Path(\"data\").mkdir(exist_ok=True)\n",
    "ckpt = Path(\"data\") / \"torchvision_cifar_l2_1_0.pt\"\n",
    "if not ckpt.exists():\n",
    "    import requests\n",
    "\n",
    "    headers = {\"user-agent\": \"Wget/1.16 (linux-gnu)\"}\n",
    "    url = \"https://www.dropbox.com/s/oagh1e6vji2z252/torchvision_cifar_l2_1_0.pt?dl=1\"\n",
    "    r = requests.get(url, stream=True, headers=headers)\n",
    "    with open(ckpt, \"wb\") as f:\n",
    "        for chunk in r.iter_content(chunk_size=1024):\n",
    "            if chunk:\n",
    "                f.write(chunk)\n",
    "\n",
    "module.model.load_state_dict(torch.load(ckpt)[\"state_dict\"])"
   ]
  },
  {
   "cell_type": "code",
   "execution_count": 10,
   "metadata": {},
   "outputs": [
    {
     "data": {
      "text/plain": [
       "tensor([ True,  True,  True, False,  True,  True,  True,  True,  True,  True])"
      ]
     },
     "execution_count": 10,
     "metadata": {},
     "output_type": "execute_result"
    }
   ],
   "source": [
    "module.eval()\n",
    "module(x).argmax(1) == y"
   ]
  },
  {
   "cell_type": "markdown",
   "metadata": {},
   "source": [
    "## Train"
   ]
  },
  {
   "cell_type": "code",
   "execution_count": 11,
   "metadata": {},
   "outputs": [
    {
     "name": "stderr",
     "output_type": "stream",
     "text": [
      "GPU available: True, used: True\n",
      "TPU available: False, using: 0 TPU cores\n"
     ]
    }
   ],
   "source": [
    "trainer = instantiate(\n",
    "    cfg.experiment.lightning_trainer,\n",
    "    accelerator=\"dp\",\n",
    "    default_root_dir=\"outputs/lightning\",\n",
    "    max_epochs=1,\n",
    ")\n",
    "# trainer.fit(module, datamodule=data)"
   ]
  }
 ],
 "metadata": {
  "kernelspec": {
   "display_name": "Python [conda env:.conda-raiden-release]",
   "language": "python",
   "name": "conda-env-.conda-raiden-release-py"
  },
  "language_info": {
   "codemirror_mode": {
    "name": "ipython",
    "version": 3
   },
   "file_extension": ".py",
   "mimetype": "text/x-python",
   "name": "python",
   "nbconvert_exporter": "python",
   "pygments_lexer": "ipython3",
   "version": "3.8.5"
  }
 },
 "nbformat": 4,
 "nbformat_minor": 4
}
